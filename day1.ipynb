{
 "cells": [
  {
   "cell_type": "code",
   "execution_count": 1,
   "id": "122d1dfa-87ae-4191-a6d9-0f5ddbb62da0",
   "metadata": {},
   "outputs": [],
   "source": [
    "# count the sum of calories separated by a space, and get the higher number"
   ]
  },
  {
   "cell_type": "code",
   "execution_count": 66,
   "id": "eadbd7f7-6277-4f3f-abd9-4b655f58d1a6",
   "metadata": {},
   "outputs": [],
   "source": [
    "input = open('day1_input.txt')"
   ]
  },
  {
   "cell_type": "code",
   "execution_count": 63,
   "id": "155c1857-4b19-4f8e-bdb6-a47776994c89",
   "metadata": {},
   "outputs": [
    {
     "name": "stdout",
     "output_type": "stream",
     "text": [
      "69836\n"
     ]
    }
   ],
   "source": [
    "# part 1\n",
    "max_cal = 0\n",
    "elf_cal = 0\n",
    "\n",
    "for cal in input:\n",
    "    if cal == \"\\n\":\n",
    "        if elf_cal > max_cal:\n",
    "            max_cal = elf_cal\n",
    "        elf_cal = 0\n",
    "    else:\n",
    "        elf_cal += int(cal)\n",
    "\n",
    "print(max_cal)"
   ]
  },
  {
   "cell_type": "code",
   "execution_count": 64,
   "id": "c83e5789-57a4-4143-9492-755a19c6a3d8",
   "metadata": {},
   "outputs": [],
   "source": [
    "# the elf carrying the most calories of food might run out of snacks\n",
    "# find the total nuber of calories carried for the top three Elves"
   ]
  },
  {
   "cell_type": "code",
   "execution_count": 67,
   "id": "9583c777-518d-4946-b152-fcce75af7ed9",
   "metadata": {},
   "outputs": [
    {
     "name": "stdout",
     "output_type": "stream",
     "text": [
      "207968\n"
     ]
    }
   ],
   "source": [
    "# part 2\n",
    "max_cal = []\n",
    "elf_cal = 0\n",
    "\n",
    "for cal in input:\n",
    "    if cal == \"\\n\":\n",
    "        max_cal.append(elf_cal)\n",
    "        elf_cal = 0\n",
    "    else:\n",
    "        elf_cal += int(cal)\n",
    "\n",
    "max_cal.sort(reverse=True)\n",
    "print(sum(max_cal[0:3]))"
   ]
  }
 ],
 "metadata": {
  "kernelspec": {
   "display_name": "Python 3 (ipykernel)",
   "language": "python",
   "name": "python3"
  },
  "language_info": {
   "codemirror_mode": {
    "name": "ipython",
    "version": 3
   },
   "file_extension": ".py",
   "mimetype": "text/x-python",
   "name": "python",
   "nbconvert_exporter": "python",
   "pygments_lexer": "ipython3",
   "version": "3.9.7"
  }
 },
 "nbformat": 4,
 "nbformat_minor": 5
}
